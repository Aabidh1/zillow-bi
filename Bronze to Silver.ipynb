{
 "cells": [
  {
   "cell_type": "code",
   "execution_count": 22,
   "id": "f074c68e-199d-4868-8151-a576e50f7bc2",
   "metadata": {},
   "outputs": [],
   "source": [
    "import pandas as pd\n",
    "import numpy as np\n",
    "import re\n",
    "import os"
   ]
  },
  {
   "cell_type": "markdown",
   "id": "8159e7b0-0276-40c9-b72b-8a796bbb18e9",
   "metadata": {},
   "source": [
    "#### **Common Utility Functions**"
   ]
  },
  {
   "cell_type": "code",
   "execution_count": 25,
   "id": "b29178a4-1232-4ef9-9ac5-a67bb6edc818",
   "metadata": {},
   "outputs": [],
   "source": [
    "def remove_rows_with_empty_columns(df):\n",
    "    # Select all columns except the first one\n",
    "    other_columns = df.iloc[:, 1:]\n",
    "    \n",
    "    # Create a boolean mask for rows where all columns except the first one are NaN\n",
    "    rows_to_drop = other_columns.isna().all(axis=1)\n",
    "    \n",
    "    # Drop those rows from the DataFrame\n",
    "    df_cleaned = df[~rows_to_drop]\n",
    "    \n",
    "    return df_cleaned"
   ]
  },
  {
   "cell_type": "markdown",
   "id": "196f8027-2ff8-4849-98da-381288c4720b",
   "metadata": {},
   "source": [
    "## (1) Convert Excel to CSVs ('zillow_data_dictionary.xlsx')"
   ]
  },
  {
   "cell_type": "code",
   "execution_count": 21,
   "id": "a03f8030-8abf-44dc-a08e-8ad12787fd9b",
   "metadata": {},
   "outputs": [
    {
     "name": "stdout",
     "output_type": "stream",
     "text": [
      "Saved data _dictionary_df as ./inputs/data _dictionary_df.csv\n",
      "Saved heating_or_system_type_df as ./inputs/heating_or_system_type_df.csv\n",
      "Saved property_land_use_type_df as ./inputs/property_land_use_type_df.csv\n",
      "Saved story_type_df as ./inputs/story_type_df.csv\n",
      "Saved air_conditioning_type_df as ./inputs/air_conditioning_type_df.csv\n",
      "Saved architectural_style_type_df as ./inputs/architectural_style_type_df.csv\n",
      "Saved type_construction_type_df as ./inputs/type_construction_type_df.csv\n",
      "Saved building_class_type_df as ./inputs/building_class_type_df.csv\n"
     ]
    }
   ],
   "source": [
    "file_path = './data/zillow_data_dictionary.xlsx'\n",
    "\n",
    "def format_column_name(column_name):\n",
    "    column_name = re.sub(r'ID$', '', column_name)\n",
    "    formatted_name = re.sub(r'(?<!^)(?=[A-Z])', '_', column_name).lower()\n",
    "    formatted_name += '_df'\n",
    "    return formatted_name\n",
    "\n",
    "excel_data = pd.read_excel(file_path, sheet_name=None)\n",
    "\n",
    "for sheet_name, data in excel_data.items():\n",
    "    sheet_name = format_column_name(sheet_name)\n",
    "    csv_file_name = f\"./inputs/{sheet_name}.csv\"\n",
    "    data.to_csv(csv_file_name, index=False)\n",
    "    print(f\"Saved {sheet_name} as {csv_file_name}\")\n",
    "\n",
    "os.path.exists(\"./inputs/data_dictionary_df.csv\") and os.remove(\"./inputs/data_dictionary_df.csv\")"
   ]
  },
  {
   "cell_type": "markdown",
   "id": "c686ce62-6676-4789-aabf-e61bf5f7f91a",
   "metadata": {},
   "source": [
    "## (2) Split Master CSV to Tables ('properties_2017.csv')"
   ]
  },
  {
   "cell_type": "code",
   "execution_count": 5,
   "id": "bd71513e-d3c6-48ae-a6c6-7792712223bf",
   "metadata": {},
   "outputs": [
    {
     "name": "stderr",
     "output_type": "stream",
     "text": [
      "C:\\Users\\Acer\\AppData\\Local\\Temp\\ipykernel_16416\\4187841073.py:1: DtypeWarning: Columns (49) have mixed types. Specify dtype option on import or set low_memory=False.\n",
      "  df = pd.read_csv('./data/properties_2017.csv')\n"
     ]
    }
   ],
   "source": [
    "df = pd.read_csv('./data/properties_2017.csv')"
   ]
  },
  {
   "cell_type": "code",
   "execution_count": 6,
   "id": "d46e99c5-093c-4c33-8b53-8026087e37a4",
   "metadata": {},
   "outputs": [
    {
     "data": {
      "text/html": [
       "<div>\n",
       "<style scoped>\n",
       "    .dataframe tbody tr th:only-of-type {\n",
       "        vertical-align: middle;\n",
       "    }\n",
       "\n",
       "    .dataframe tbody tr th {\n",
       "        vertical-align: top;\n",
       "    }\n",
       "\n",
       "    .dataframe thead th {\n",
       "        text-align: right;\n",
       "    }\n",
       "</style>\n",
       "<table border=\"1\" class=\"dataframe\">\n",
       "  <thead>\n",
       "    <tr style=\"text-align: right;\">\n",
       "      <th></th>\n",
       "      <th>parcelid</th>\n",
       "      <th>airconditioningtypeid</th>\n",
       "      <th>architecturalstyletypeid</th>\n",
       "      <th>basementsqft</th>\n",
       "      <th>bathroomcnt</th>\n",
       "      <th>bedroomcnt</th>\n",
       "      <th>buildingclasstypeid</th>\n",
       "      <th>buildingqualitytypeid</th>\n",
       "      <th>calculatedbathnbr</th>\n",
       "      <th>decktypeid</th>\n",
       "      <th>...</th>\n",
       "      <th>numberofstories</th>\n",
       "      <th>fireplaceflag</th>\n",
       "      <th>structuretaxvaluedollarcnt</th>\n",
       "      <th>taxvaluedollarcnt</th>\n",
       "      <th>assessmentyear</th>\n",
       "      <th>landtaxvaluedollarcnt</th>\n",
       "      <th>taxamount</th>\n",
       "      <th>taxdelinquencyflag</th>\n",
       "      <th>taxdelinquencyyear</th>\n",
       "      <th>censustractandblock</th>\n",
       "    </tr>\n",
       "  </thead>\n",
       "  <tbody>\n",
       "    <tr>\n",
       "      <th>0</th>\n",
       "      <td>10754147</td>\n",
       "      <td>NaN</td>\n",
       "      <td>NaN</td>\n",
       "      <td>NaN</td>\n",
       "      <td>0.0</td>\n",
       "      <td>0.0</td>\n",
       "      <td>NaN</td>\n",
       "      <td>NaN</td>\n",
       "      <td>NaN</td>\n",
       "      <td>NaN</td>\n",
       "      <td>...</td>\n",
       "      <td>NaN</td>\n",
       "      <td>NaN</td>\n",
       "      <td>NaN</td>\n",
       "      <td>9.0</td>\n",
       "      <td>2016.0</td>\n",
       "      <td>9.0</td>\n",
       "      <td>NaN</td>\n",
       "      <td>NaN</td>\n",
       "      <td>NaN</td>\n",
       "      <td>NaN</td>\n",
       "    </tr>\n",
       "    <tr>\n",
       "      <th>1</th>\n",
       "      <td>10759547</td>\n",
       "      <td>NaN</td>\n",
       "      <td>NaN</td>\n",
       "      <td>NaN</td>\n",
       "      <td>0.0</td>\n",
       "      <td>0.0</td>\n",
       "      <td>NaN</td>\n",
       "      <td>NaN</td>\n",
       "      <td>NaN</td>\n",
       "      <td>NaN</td>\n",
       "      <td>...</td>\n",
       "      <td>NaN</td>\n",
       "      <td>NaN</td>\n",
       "      <td>NaN</td>\n",
       "      <td>27516.0</td>\n",
       "      <td>2015.0</td>\n",
       "      <td>27516.0</td>\n",
       "      <td>NaN</td>\n",
       "      <td>NaN</td>\n",
       "      <td>NaN</td>\n",
       "      <td>NaN</td>\n",
       "    </tr>\n",
       "    <tr>\n",
       "      <th>2</th>\n",
       "      <td>10843547</td>\n",
       "      <td>NaN</td>\n",
       "      <td>NaN</td>\n",
       "      <td>NaN</td>\n",
       "      <td>0.0</td>\n",
       "      <td>0.0</td>\n",
       "      <td>5.0</td>\n",
       "      <td>NaN</td>\n",
       "      <td>NaN</td>\n",
       "      <td>NaN</td>\n",
       "      <td>...</td>\n",
       "      <td>1.0</td>\n",
       "      <td>NaN</td>\n",
       "      <td>660680.0</td>\n",
       "      <td>1434941.0</td>\n",
       "      <td>2016.0</td>\n",
       "      <td>774261.0</td>\n",
       "      <td>20800.37</td>\n",
       "      <td>NaN</td>\n",
       "      <td>NaN</td>\n",
       "      <td>NaN</td>\n",
       "    </tr>\n",
       "    <tr>\n",
       "      <th>3</th>\n",
       "      <td>10859147</td>\n",
       "      <td>NaN</td>\n",
       "      <td>NaN</td>\n",
       "      <td>NaN</td>\n",
       "      <td>0.0</td>\n",
       "      <td>0.0</td>\n",
       "      <td>3.0</td>\n",
       "      <td>6.0</td>\n",
       "      <td>NaN</td>\n",
       "      <td>NaN</td>\n",
       "      <td>...</td>\n",
       "      <td>1.0</td>\n",
       "      <td>NaN</td>\n",
       "      <td>580059.0</td>\n",
       "      <td>1174475.0</td>\n",
       "      <td>2016.0</td>\n",
       "      <td>594416.0</td>\n",
       "      <td>14557.57</td>\n",
       "      <td>NaN</td>\n",
       "      <td>NaN</td>\n",
       "      <td>NaN</td>\n",
       "    </tr>\n",
       "    <tr>\n",
       "      <th>4</th>\n",
       "      <td>10879947</td>\n",
       "      <td>NaN</td>\n",
       "      <td>NaN</td>\n",
       "      <td>NaN</td>\n",
       "      <td>0.0</td>\n",
       "      <td>0.0</td>\n",
       "      <td>4.0</td>\n",
       "      <td>NaN</td>\n",
       "      <td>NaN</td>\n",
       "      <td>NaN</td>\n",
       "      <td>...</td>\n",
       "      <td>1.0</td>\n",
       "      <td>NaN</td>\n",
       "      <td>196751.0</td>\n",
       "      <td>440101.0</td>\n",
       "      <td>2016.0</td>\n",
       "      <td>243350.0</td>\n",
       "      <td>5725.17</td>\n",
       "      <td>NaN</td>\n",
       "      <td>NaN</td>\n",
       "      <td>NaN</td>\n",
       "    </tr>\n",
       "  </tbody>\n",
       "</table>\n",
       "<p>5 rows × 58 columns</p>\n",
       "</div>"
      ],
      "text/plain": [
       "   parcelid  airconditioningtypeid  architecturalstyletypeid  basementsqft  \\\n",
       "0  10754147                    NaN                       NaN           NaN   \n",
       "1  10759547                    NaN                       NaN           NaN   \n",
       "2  10843547                    NaN                       NaN           NaN   \n",
       "3  10859147                    NaN                       NaN           NaN   \n",
       "4  10879947                    NaN                       NaN           NaN   \n",
       "\n",
       "   bathroomcnt  bedroomcnt  buildingclasstypeid  buildingqualitytypeid  \\\n",
       "0          0.0         0.0                  NaN                    NaN   \n",
       "1          0.0         0.0                  NaN                    NaN   \n",
       "2          0.0         0.0                  5.0                    NaN   \n",
       "3          0.0         0.0                  3.0                    6.0   \n",
       "4          0.0         0.0                  4.0                    NaN   \n",
       "\n",
       "   calculatedbathnbr  decktypeid  ...  numberofstories  fireplaceflag  \\\n",
       "0                NaN         NaN  ...              NaN            NaN   \n",
       "1                NaN         NaN  ...              NaN            NaN   \n",
       "2                NaN         NaN  ...              1.0            NaN   \n",
       "3                NaN         NaN  ...              1.0            NaN   \n",
       "4                NaN         NaN  ...              1.0            NaN   \n",
       "\n",
       "   structuretaxvaluedollarcnt  taxvaluedollarcnt  assessmentyear  \\\n",
       "0                         NaN                9.0          2016.0   \n",
       "1                         NaN            27516.0          2015.0   \n",
       "2                    660680.0          1434941.0          2016.0   \n",
       "3                    580059.0          1174475.0          2016.0   \n",
       "4                    196751.0           440101.0          2016.0   \n",
       "\n",
       "   landtaxvaluedollarcnt  taxamount  taxdelinquencyflag  taxdelinquencyyear  \\\n",
       "0                    9.0        NaN                 NaN                 NaN   \n",
       "1                27516.0        NaN                 NaN                 NaN   \n",
       "2               774261.0   20800.37                 NaN                 NaN   \n",
       "3               594416.0   14557.57                 NaN                 NaN   \n",
       "4               243350.0    5725.17                 NaN                 NaN   \n",
       "\n",
       "   censustractandblock  \n",
       "0                  NaN  \n",
       "1                  NaN  \n",
       "2                  NaN  \n",
       "3                  NaN  \n",
       "4                  NaN  \n",
       "\n",
       "[5 rows x 58 columns]"
      ]
     },
     "execution_count": 6,
     "metadata": {},
     "output_type": "execute_result"
    }
   ],
   "source": [
    "df.head()"
   ]
  },
  {
   "cell_type": "code",
   "execution_count": 7,
   "id": "90cf5272-c9aa-4e3f-b404-a45548074e5d",
   "metadata": {},
   "outputs": [
    {
     "data": {
      "text/plain": [
       "(2985217, 58)"
      ]
     },
     "execution_count": 7,
     "metadata": {},
     "output_type": "execute_result"
    }
   ],
   "source": [
    "df.shape"
   ]
  },
  {
   "cell_type": "markdown",
   "id": "8d708028-d1db-4900-88be-7fcca66ed804",
   "metadata": {},
   "source": [
    "#### **1. Property Table**"
   ]
  },
  {
   "cell_type": "code",
   "execution_count": 8,
   "id": "9bb4eb57-8860-4cd2-b55a-7fb0c7f4c51f",
   "metadata": {},
   "outputs": [
    {
     "data": {
      "text/html": [
       "<div>\n",
       "<style scoped>\n",
       "    .dataframe tbody tr th:only-of-type {\n",
       "        vertical-align: middle;\n",
       "    }\n",
       "\n",
       "    .dataframe tbody tr th {\n",
       "        vertical-align: top;\n",
       "    }\n",
       "\n",
       "    .dataframe thead th {\n",
       "        text-align: right;\n",
       "    }\n",
       "</style>\n",
       "<table border=\"1\" class=\"dataframe\">\n",
       "  <thead>\n",
       "    <tr style=\"text-align: right;\">\n",
       "      <th></th>\n",
       "      <th>parcelid</th>\n",
       "      <th>latitude</th>\n",
       "      <th>longitude</th>\n",
       "      <th>lotsizesquarefeet</th>\n",
       "      <th>numberofstories</th>\n",
       "      <th>yearbuilt</th>\n",
       "      <th>regionidcounty</th>\n",
       "      <th>regionidcity</th>\n",
       "      <th>regionidzip</th>\n",
       "      <th>regionidneighborhood</th>\n",
       "    </tr>\n",
       "  </thead>\n",
       "  <tbody>\n",
       "    <tr>\n",
       "      <th>0</th>\n",
       "      <td>10754147</td>\n",
       "      <td>34144442.0</td>\n",
       "      <td>-118654084.0</td>\n",
       "      <td>85768.0</td>\n",
       "      <td>NaN</td>\n",
       "      <td>NaN</td>\n",
       "      <td>3101.0</td>\n",
       "      <td>37688.0</td>\n",
       "      <td>96337.0</td>\n",
       "      <td>NaN</td>\n",
       "    </tr>\n",
       "    <tr>\n",
       "      <th>1</th>\n",
       "      <td>10759547</td>\n",
       "      <td>34140430.0</td>\n",
       "      <td>-118625364.0</td>\n",
       "      <td>4083.0</td>\n",
       "      <td>NaN</td>\n",
       "      <td>NaN</td>\n",
       "      <td>3101.0</td>\n",
       "      <td>37688.0</td>\n",
       "      <td>96337.0</td>\n",
       "      <td>NaN</td>\n",
       "    </tr>\n",
       "    <tr>\n",
       "      <th>2</th>\n",
       "      <td>10843547</td>\n",
       "      <td>33989359.0</td>\n",
       "      <td>-118394633.0</td>\n",
       "      <td>63085.0</td>\n",
       "      <td>1.0</td>\n",
       "      <td>1959.0</td>\n",
       "      <td>3101.0</td>\n",
       "      <td>51617.0</td>\n",
       "      <td>96095.0</td>\n",
       "      <td>NaN</td>\n",
       "    </tr>\n",
       "    <tr>\n",
       "      <th>3</th>\n",
       "      <td>10859147</td>\n",
       "      <td>34148863.0</td>\n",
       "      <td>-118437206.0</td>\n",
       "      <td>7521.0</td>\n",
       "      <td>1.0</td>\n",
       "      <td>1948.0</td>\n",
       "      <td>3101.0</td>\n",
       "      <td>12447.0</td>\n",
       "      <td>96424.0</td>\n",
       "      <td>27080.0</td>\n",
       "    </tr>\n",
       "    <tr>\n",
       "      <th>4</th>\n",
       "      <td>10879947</td>\n",
       "      <td>34194168.0</td>\n",
       "      <td>-118385816.0</td>\n",
       "      <td>8512.0</td>\n",
       "      <td>1.0</td>\n",
       "      <td>1947.0</td>\n",
       "      <td>3101.0</td>\n",
       "      <td>12447.0</td>\n",
       "      <td>96450.0</td>\n",
       "      <td>46795.0</td>\n",
       "    </tr>\n",
       "  </tbody>\n",
       "</table>\n",
       "</div>"
      ],
      "text/plain": [
       "   parcelid    latitude    longitude  lotsizesquarefeet  numberofstories  \\\n",
       "0  10754147  34144442.0 -118654084.0            85768.0              NaN   \n",
       "1  10759547  34140430.0 -118625364.0             4083.0              NaN   \n",
       "2  10843547  33989359.0 -118394633.0            63085.0              1.0   \n",
       "3  10859147  34148863.0 -118437206.0             7521.0              1.0   \n",
       "4  10879947  34194168.0 -118385816.0             8512.0              1.0   \n",
       "\n",
       "   yearbuilt  regionidcounty  regionidcity  regionidzip  regionidneighborhood  \n",
       "0        NaN          3101.0       37688.0      96337.0                   NaN  \n",
       "1        NaN          3101.0       37688.0      96337.0                   NaN  \n",
       "2     1959.0          3101.0       51617.0      96095.0                   NaN  \n",
       "3     1948.0          3101.0       12447.0      96424.0               27080.0  \n",
       "4     1947.0          3101.0       12447.0      96450.0               46795.0  "
      ]
     },
     "execution_count": 8,
     "metadata": {},
     "output_type": "execute_result"
    }
   ],
   "source": [
    "property_columns = [\n",
    "    'parcelid', 'latitude', 'longitude', 'yearbuilt', 'regionidcounty',\n",
    "    'regionidcity', 'regionidzip', 'regionidneighborhood'\n",
    "]\n",
    "\n",
    "# 1. Filter Required Columns\n",
    "property_df = df[property_columns]\n",
    "property_df.head()"
   ]
  },
  {
   "cell_type": "code",
   "execution_count": 26,
   "id": "01f21629-e1f6-4b7d-813d-95d3442d4af3",
   "metadata": {},
   "outputs": [],
   "source": [
    "# 2. Remove All Column Missing\n",
    "property_df = remove_rows_with_empty_columns(property_df)"
   ]
  },
  {
   "cell_type": "code",
   "execution_count": 28,
   "id": "058dbc89-2351-41c7-ab50-7fec1f867d19",
   "metadata": {},
   "outputs": [],
   "source": [
    "# 3. Drop All Column Duplicates\n",
    "property_df = property_df.drop_duplicates()"
   ]
  },
  {
   "cell_type": "code",
   "execution_count": 30,
   "id": "4d215e20-6be1-40bd-9e05-2a33b0643c94",
   "metadata": {},
   "outputs": [
    {
     "data": {
      "text/plain": [
       "parcelid                      0\n",
       "latitude                      0\n",
       "longitude                     0\n",
       "lotsizesquarefeet        269774\n",
       "numberofstories         2296609\n",
       "yearbuilt                 44901\n",
       "regionidcounty                0\n",
       "regionidcity              59196\n",
       "regionidzip                9782\n",
       "regionidneighborhood    1825544\n",
       "dtype: int64"
      ]
     },
     "execution_count": 30,
     "metadata": {},
     "output_type": "execute_result"
    }
   ],
   "source": [
    "# 4. Check for Missing Values\n",
    "property_df.isna().sum()"
   ]
  },
  {
   "cell_type": "code",
   "execution_count": 32,
   "id": "99a69de3-0b83-46da-ac0f-838742bd2e27",
   "metadata": {},
   "outputs": [
    {
     "data": {
      "text/plain": [
       "array([1])"
      ]
     },
     "execution_count": 32,
     "metadata": {},
     "output_type": "execute_result"
    }
   ],
   "source": [
    "# 5. Check Whether 'Many' Dependancy Exists\n",
    "property_df['parcelid'].value_counts().unique()"
   ]
  },
  {
   "cell_type": "markdown",
   "id": "60b9473a-c619-49e5-9355-80b7e3d5316d",
   "metadata": {},
   "source": [
    "Since this is our Primary Table, there are no relationships exist."
   ]
  },
  {
   "cell_type": "code",
   "execution_count": 14,
   "id": "c269e522-e4ad-4890-aca0-85208c07f46d",
   "metadata": {},
   "outputs": [],
   "source": [
    "# 6. Save DataFrame\n",
    "property_df.to_csv('./inputs/property_table.csv', index=False)"
   ]
  },
  {
   "cell_type": "markdown",
   "id": "8885a18a-90de-4545-9f04-0492a6b3bf10",
   "metadata": {},
   "source": [
    "#### **2. Building Table**"
   ]
  },
  {
   "cell_type": "code",
   "execution_count": 33,
   "id": "9bd9e4a5-62ab-44ba-80ec-9e1a97e87d0c",
   "metadata": {},
   "outputs": [],
   "source": [
    "building_columns = [\n",
    "    'parcelid', 'bedroomcnt', 'bathroomcnt', 'calculatedbathnbr', \n",
    "    'threequarterbathnbr', 'finishedfloor1squarefeet', 'calculatedfinishedsquarefeet', \n",
    "    'finishedsquarefeet6', 'finishedsquarefeet12', 'finishedsquarefeet13', \n",
    "    'finishedsquarefeet15', 'finishedsquarefeet50', 'buildingqualitytypeid',\n",
    "    'buildingclasstypeid', 'storytypeid', 'typeconstructiontypeid'\n",
    "]\n",
    "\n",
    "# 1. Filter Columns\n",
    "building_df = df[building_columns]\n",
    "\n",
    "# 2. Remove All Column Missing\n",
    "building_df = remove_rows_with_empty_columns(building_df)\n",
    "\n",
    "# 3. Drop All Column Duplicates\n",
    "building_df = building_df.drop_duplicates()\n"
   ]
  },
  {
   "cell_type": "code",
   "execution_count": 34,
   "id": "fee1df2e-753b-42b1-b40d-7cb3897b3ccb",
   "metadata": {},
   "outputs": [
    {
     "data": {
      "text/plain": [
       "(2982278, 16)"
      ]
     },
     "execution_count": 34,
     "metadata": {},
     "output_type": "execute_result"
    }
   ],
   "source": [
    "building_df.shape"
   ]
  },
  {
   "cell_type": "code",
   "execution_count": 35,
   "id": "26e3f6b1-7fdc-45dd-945e-c6bbf57c437f",
   "metadata": {},
   "outputs": [
    {
     "data": {
      "text/plain": [
       "parcelid                              0\n",
       "bedroomcnt                            6\n",
       "bathroomcnt                          18\n",
       "calculatedbathnbr                114217\n",
       "threequarterbathnbr             2665921\n",
       "finishedfloor1squarefeet        2778520\n",
       "calculatedfinishedsquarefeet      42158\n",
       "finishedsquarefeet6             2960796\n",
       "finishedsquarefeet12             261492\n",
       "finishedsquarefeet13            2974607\n",
       "finishedsquarefeet15            2792093\n",
       "finishedsquarefeet50            2778520\n",
       "buildingqualitytypeid           1040883\n",
       "buildingclasstypeid             2969547\n",
       "storytypeid                     2980655\n",
       "typeconstructiontypeid          2975532\n",
       "dtype: int64"
      ]
     },
     "execution_count": 35,
     "metadata": {},
     "output_type": "execute_result"
    }
   ],
   "source": [
    "# 4. Check for Missing Values\n",
    "building_df.isna().sum()"
   ]
  },
  {
   "cell_type": "code",
   "execution_count": 41,
   "id": "bdccb2ce-0958-4ed8-af85-7f52d25e7a57",
   "metadata": {},
   "outputs": [
    {
     "data": {
      "text/plain": [
       "parcelid                        2982278\n",
       "bedroomcnt                      2982272\n",
       "bathroomcnt                     2982260\n",
       "calculatedbathnbr               2868061\n",
       "threequarterbathnbr              316357\n",
       "finishedfloor1squarefeet         203758\n",
       "calculatedfinishedsquarefeet    2940120\n",
       "finishedsquarefeet6               21482\n",
       "finishedsquarefeet12            2720786\n",
       "finishedsquarefeet13               7671\n",
       "finishedsquarefeet15             190185\n",
       "finishedsquarefeet50             203758\n",
       "buildingqualitytypeid           1941395\n",
       "buildingclasstypeid               12731\n",
       "storytypeid                        1623\n",
       "typeconstructiontypeid             6746\n",
       "dtype: int64"
      ]
     },
     "execution_count": 41,
     "metadata": {},
     "output_type": "execute_result"
    }
   ],
   "source": [
    "building_df.notna().sum()"
   ]
  },
  {
   "cell_type": "code",
   "execution_count": 36,
   "id": "909fe89c-a6d0-43b6-b076-ca1608e4c6e7",
   "metadata": {},
   "outputs": [
    {
     "data": {
      "text/plain": [
       "array([1])"
      ]
     },
     "execution_count": 36,
     "metadata": {},
     "output_type": "execute_result"
    }
   ],
   "source": [
    "# 5. Check Whether 'Many' Dependancy Exists\n",
    "property_df['parcelid'].value_counts().unique()"
   ]
  },
  {
   "cell_type": "markdown",
   "id": "a4498a0f-3951-4656-8387-0664646e8097",
   "metadata": {},
   "source": [
    "#### **2. Amenities Table**"
   ]
  },
  {
   "cell_type": "code",
   "execution_count": null,
   "id": "9e199624-ae8c-4f6a-a0fb-b1edf11c59d5",
   "metadata": {},
   "outputs": [],
   "source": [
    "amenities_columns = [\n",
    "    'parcelid', 'fireplacecnt', 'fireplaceflag', 'fullbathcnt', \n",
    "    'garagecarcnt', 'garagetotalsqft', 'hashottuborspa', 'poolcnt', \n",
    "    'poolsizesum', 'pooltypeid10', 'pooltypeid2', 'pooltypeid7',\n",
    "    'decktypeid', 'yardbuildingsqft17', 'yardbuildingsqft26'\n",
    "]\n",
    "\n",
    "amenities_df = df[amenities_columns]"
   ]
  },
  {
   "cell_type": "markdown",
   "id": "05ac2e11-7b65-4cd2-955a-4f4e95598358",
   "metadata": {},
   "source": [
    "#### **3. Tax Table** "
   ]
  },
  {
   "cell_type": "code",
   "execution_count": null,
   "id": "c0f01105-f273-4dd4-a8b9-fedcf95d5492",
   "metadata": {},
   "outputs": [],
   "source": [
    "tax_columns = [\n",
    "    'parcelid', 'taxvaluedollarcnt', 'structuretaxvaluedollarcnt', \n",
    "    'landtaxvaluedollarcnt', 'taxamount', 'assessmentyear', \n",
    "    'taxdelinquencyflag', 'taxdelinquencyyear'\n",
    "]\n",
    "\n",
    "tax_df = df[tax_columns]"
   ]
  },
  {
   "cell_type": "markdown",
   "id": "476205f5-c7f6-490f-bc95-7a78d8061cdf",
   "metadata": {},
   "source": [
    "#### **4. Zoning Table**  "
   ]
  },
  {
   "cell_type": "code",
   "execution_count": null,
   "id": "feac76e3-38dc-45ab-8869-b9babf3b4e9b",
   "metadata": {},
   "outputs": [],
   "source": [
    "zoning_columns = [\n",
    "    'parcelid', 'propertycountylandusecode', 'propertylandusetypeid', \n",
    "    'propertyzoningdesc', 'rawcensustractandblock', 'censustractandblock'\n",
    "]\n",
    "\n",
    "zoning_df = df[zoning_columns]"
   ]
  }
 ],
 "metadata": {
  "kernelspec": {
   "display_name": "Python 3 (ipykernel)",
   "language": "python",
   "name": "python3"
  },
  "language_info": {
   "codemirror_mode": {
    "name": "ipython",
    "version": 3
   },
   "file_extension": ".py",
   "mimetype": "text/x-python",
   "name": "python",
   "nbconvert_exporter": "python",
   "pygments_lexer": "ipython3",
   "version": "3.11.5"
  }
 },
 "nbformat": 4,
 "nbformat_minor": 5
}
