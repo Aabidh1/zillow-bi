{
 "cells": [
  {
   "cell_type": "markdown",
   "id": "f294c39e-58ad-447b-b5b3-ac39b87ecf20",
   "metadata": {},
   "source": [
    "- Here we need to ensure all the tables are ready to publish in SQL Warehouse.\n",
    "- Need to ensure all the relationships are mapped correctly, Primary Keys and Foreign Keys are set properly.\n",
    "- Conversions to SQL if needed."
   ]
  },
  {
   "cell_type": "code",
   "execution_count": null,
   "id": "6da3abf8-93de-4148-a69c-d22809cf02ac",
   "metadata": {},
   "outputs": [],
   "source": []
  }
 ],
 "metadata": {
  "kernelspec": {
   "display_name": "Python 3 (ipykernel)",
   "language": "python",
   "name": "python3"
  },
  "language_info": {
   "codemirror_mode": {
    "name": "ipython",
    "version": 3
   },
   "file_extension": ".py",
   "mimetype": "text/x-python",
   "name": "python",
   "nbconvert_exporter": "python",
   "pygments_lexer": "ipython3",
   "version": "3.11.5"
  }
 },
 "nbformat": 4,
 "nbformat_minor": 5
}
